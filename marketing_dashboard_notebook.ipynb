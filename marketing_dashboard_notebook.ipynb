{
 "cells": [
  {
   "cell_type": "markdown",
   "id": "78132c90",
   "metadata": {},
   "source": [
    "### Test Notebook for Marketing Dashboard: FB Page Analysis Skooldio"
   ]
  },
  {
   "cell_type": "markdown",
   "id": "73958d24",
   "metadata": {},
   "source": [
    "---"
   ]
  },
  {
   "cell_type": "code",
   "execution_count": null,
   "id": "c2508520",
   "metadata": {},
   "outputs": [],
   "source": [
    "import numpy as np\n",
    "import pandas as pd\n",
    "import matplotlib.pyplot as plt\n",
    "import seaborn as sns\n",
    "from scipy import stats\n",
    "import re"
   ]
  },
  {
   "cell_type": "code",
   "execution_count": null,
   "id": "3ba173f8",
   "metadata": {},
   "outputs": [],
   "source": [
    "# Please change name of dataset to sample before run code\n",
    "df = pd.read_csv('sample.csv')\n",
    "df"
   ]
  },
  {
   "cell_type": "code",
   "execution_count": null,
   "id": "33ebb5c4",
   "metadata": {},
   "outputs": [],
   "source": [
    "df.info()"
   ]
  },
  {
   "cell_type": "code",
   "execution_count": null,
   "id": "b8322b34",
   "metadata": {},
   "outputs": [],
   "source": [
    "df.shape"
   ]
  },
  {
   "cell_type": "code",
   "execution_count": null,
   "id": "cf76dcda",
   "metadata": {},
   "outputs": [],
   "source": [
    "df.isnull().sum()"
   ]
  },
  {
   "cell_type": "code",
   "execution_count": null,
   "id": "046d10e7",
   "metadata": {},
   "outputs": [],
   "source": [
    "# Drop unnecessary columns\n",
    "df.drop(columns=['Sticker taps', 'Content type', 'Replies', 'Results', 'Cost per result'], inplace=True)\n",
    "df.head()"
   ]
  },
  {
   "cell_type": "code",
   "execution_count": null,
   "id": "e348c3df",
   "metadata": {},
   "outputs": [],
   "source": [
    "# Change to Datetime format to be able to analyze data trends\n",
    "df['Post time'] = pd.to_datetime(df['Post time'])"
   ]
  },
  {
   "cell_type": "code",
   "execution_count": null,
   "id": "c87d69b7",
   "metadata": {},
   "outputs": [],
   "source": [
    "# Exclude change cover post\n",
    "df = df.loc[df['Caption'] != 'Skooldio updated their cover photo.'].reset_index(drop=True)"
   ]
  },
  {
   "cell_type": "code",
   "execution_count": null,
   "id": "bcad9ca6",
   "metadata": {},
   "outputs": [],
   "source": [
    "# Inspect correlation between variables\n",
    "data_temp = df.corr(method='kendall')\n",
    "sns.heatmap(data_temp, cmap='Blues', annot=True)"
   ]
  },
  {
   "cell_type": "code",
   "execution_count": null,
   "id": "00373c9a",
   "metadata": {},
   "outputs": [],
   "source": [
    "# Prepare available columns to get tags in caption\n",
    "df['tags'] = np.array([np.nan]*df.shape[0])\n",
    "df"
   ]
  },
  {
   "cell_type": "code",
   "execution_count": null,
   "id": "dd494908",
   "metadata": {},
   "outputs": [],
   "source": [
    "# Extract all \"English\" Tags to tags column\n",
    "pattern = re.compile('#[a-zA-Z0-9]+[\\w$]')\n",
    "\n",
    "for index, row in df.iterrows():\n",
    "    result = pattern.findall(df['Caption'][index])\n",
    "    lower_result = [e.lower() for e in result]\n",
    "    df['tags'][index] = lower_result\n",
    "\n",
    "df"
   ]
  },
  {
   "cell_type": "code",
   "execution_count": null,
   "id": "9a3e0436",
   "metadata": {},
   "outputs": [],
   "source": [
    "from collections import Counter\n",
    "from itertools import chain\n",
    "pd.Series(Counter(chain(*df.tags))).sort_values(ascending=False)"
   ]
  },
  {
   "cell_type": "code",
   "execution_count": null,
   "id": "94a224e8",
   "metadata": {},
   "outputs": [],
   "source": [
    "# Check outliers\n",
    "from sklearn import preprocessing\n",
    "\n",
    "min_max_scaler = preprocessing.MinMaxScaler()\n",
    "\n",
    "df_box = df[['Reach', 'Likes and reactions', 'Post Clicks', 'Comments', 'Shares']]\n",
    "df_box_scaled = pd.DataFrame(min_max_scaler.fit_transform(df_box))\n",
    "df_box_scaled.columns = ['Reach', 'Likes and reactions', 'Post Clicks', 'Comments', 'Shares']\n",
    "df_box_scaled\n",
    "\n",
    "sns.boxplot(data=df_box_scaled, palette='Paired')\n",
    "plt.xticks(rotation=30)\n",
    "plt.ylabel('Normalized Values')"
   ]
  },
  {
   "cell_type": "code",
   "execution_count": null,
   "id": "b7257b3f",
   "metadata": {},
   "outputs": [],
   "source": [
    "df.describe()"
   ]
  },
  {
   "cell_type": "code",
   "execution_count": null,
   "id": "166cabb2",
   "metadata": {},
   "outputs": [],
   "source": [
    "df['Reach'].plot(x='Post time')\n",
    "df['Likes and reactions'].plot(x='Post time', color='green', alpha=0.7)"
   ]
  },
  {
   "cell_type": "code",
   "execution_count": null,
   "id": "4b40d406",
   "metadata": {},
   "outputs": [],
   "source": [
    "df.sort_values(by='Reach', ascending=False)"
   ]
  },
  {
   "cell_type": "code",
   "execution_count": null,
   "id": "c485af2f",
   "metadata": {},
   "outputs": [],
   "source": [
    "# Remove Outliers (Boost / Ads Post)\n",
    "# Outliers \n",
    "# df[~(np.abs(df.Reach-df.Reach.mean()) <= (3*df.Reach.std()))]\n",
    "df = df[(np.abs(df.Reach-df.Reach.mean()) <= (3*df.Reach.std()))]"
   ]
  },
  {
   "cell_type": "code",
   "execution_count": null,
   "id": "61ebb84b",
   "metadata": {},
   "outputs": [],
   "source": [
    "df.plot(kind='line', x='Post time', y='Reach')\n",
    "df.plot(kind='line', x='Post time', y='Likes and reactions', color='green', alpha=0.7)\n",
    "plt.show()"
   ]
  },
  {
   "cell_type": "code",
   "execution_count": null,
   "id": "0df1dfaa",
   "metadata": {},
   "outputs": [],
   "source": [
    "df.sort_values(by='Reach', ascending=False)"
   ]
  },
  {
   "cell_type": "code",
   "execution_count": null,
   "id": "ec78039d",
   "metadata": {},
   "outputs": [],
   "source": [
    "df.insert(loc=0, column='postID', value=range(1, len(df) + 1))\n",
    "df = df.reset_index(drop=True)\n",
    "df"
   ]
  },
  {
   "cell_type": "code",
   "execution_count": null,
   "id": "ef8d81e9",
   "metadata": {},
   "outputs": [],
   "source": [
    "df['postID'] = df['postID'].astype(str)"
   ]
  },
  {
   "cell_type": "code",
   "execution_count": null,
   "id": "9dc0a26c",
   "metadata": {},
   "outputs": [],
   "source": [
    "df.loc[df.isnull().any(axis=1)]['Caption']"
   ]
  },
  {
   "cell_type": "code",
   "execution_count": null,
   "id": "89ec2871",
   "metadata": {},
   "outputs": [],
   "source": [
    "for index, row in df.iterrows():\n",
    "    print(list(row))\n",
    "    break"
   ]
  },
  {
   "cell_type": "code",
   "execution_count": null,
   "id": "ff6cd65f",
   "metadata": {},
   "outputs": [],
   "source": [
    "for index, row in df.iterrows():\n",
    "    print(len(tuple(row)))\n",
    "    break"
   ]
  },
  {
   "cell_type": "code",
   "execution_count": 87,
   "id": "f37ceac4",
   "metadata": {},
   "outputs": [],
   "source": [
    "import numpy as np\n",
    "import pandas as pd\n",
    "import re\n",
    "import sqlite3\n",
    "\n",
    "# what to modify in this script\n",
    "# columns name is fixed, if it change --> rename columns\n",
    "\n",
    "# import data from csv file\n",
    "df1 = pd.read_csv('sample.csv')\n",
    "\n",
    "# pre-processing\n",
    "df1.drop(columns=['Sticker taps', 'Content type', 'Replies', 'Results', 'Cost per result'], inplace=True)\n",
    "# df1['Post time'] = pd.to_datetime(df1['Post time'])\n",
    "df1 = df1.loc[df1['Caption'] != 'Skooldio updated their cover photo.'].reset_index(drop=True)\n",
    "df1.insert(loc=0, column='postID', value=range(1, len(df1) + 1))\n",
    "df1 = df1.reset_index(drop=True)\n",
    "df1['postID'] = df1['postID'].astype(str) # ERROR\n",
    "\n",
    "# create a DataFrame for each table in a database file\n",
    "dict_df2 = {'tagID':[], 'campaigns':[]}\n",
    "dict_df3 = {'pk_postsAndTags':[], 'postID':[], 'tagID':[]}\n",
    "# dict_df4 = {'tagID':[], 'courseName':[]}\n",
    "# dict_df5 = {'customerID':[], ...}\n",
    "\n",
    "# extract tags from Caption (exclude Thai language)\n",
    "# indicate regular expression\n",
    "pattern = re.compile('#[a-zA-Z0-9]+[\\w$]') # indicate REGEX for retrieve tags\n",
    "# Extract tags for each post into a new table\n",
    "for index, row in df1.iterrows(): # find tags for each post (each row)\n",
    "    result = pattern.findall(df1['Caption'][index]) # get tags from a comment column and get into a list\n",
    "    lower_result = [e.lower() for e in result] # lowering case tags for make it consistent\n",
    "    lower_result_remove_duplicate = list(set(lower_result)) # remove duplicate tags for each post\n",
    "    if len(lower_result_remove_duplicate) != 0: # if post contain any tag\n",
    "        # lower_result is a list containing tags for each post; [#tag1, #tag2, #tag3, ...]\n",
    "        for e in lower_result_remove_duplicate: # for each tag in a post\n",
    "            if e not in dict_df2['campaigns']: # if tag is not in record before, record it as a new one\n",
    "                tag_id = len(dict_df2['tagID'])+1\n",
    "                dict_df2['tagID'].append(str(tag_id))\n",
    "                dict_df2['campaigns'].append(e)\n",
    "\n",
    "            # define elements before inserting it to be the data\n",
    "            postid = df1['postID'][index]\n",
    "            i = dict_df2['campaigns'].index(e)\n",
    "            tagid = dict_df2['tagID'][i]\n",
    "            temp_tuple = str(tuple([postid, tagid]))\n",
    "            # insert elements to be the data\n",
    "            dict_df3['pk_postsAndTags'].append(temp_tuple)\n",
    "            dict_df3['postID'].append(postid)\n",
    "            dict_df3['tagID'].append(tagid)\n",
    "\n",
    "df2 = pd.DataFrame(dict_df2)\n",
    "df3 = pd.DataFrame(dict_df3)"
   ]
  },
  {
   "cell_type": "code",
   "execution_count": 91,
   "id": "ab2de6ab",
   "metadata": {},
   "outputs": [
    {
     "data": {
      "text/plain": [
       "['#UpskillWithSkooldio']"
      ]
     },
     "execution_count": 91,
     "metadata": {},
     "output_type": "execute_result"
    }
   ],
   "source": [
    "lower_result_remove_duplicate"
   ]
  },
  {
   "cell_type": "code",
   "execution_count": 55,
   "id": "c516e339",
   "metadata": {},
   "outputs": [
    {
     "data": {
      "text/plain": [
       "'👨\\u200d⚖️ ออกแบบเว็บไซต์ยังไงให้ถูกต้องตามหลัก PDPA⁉️\\n.\\n✍️ ก่อนอื่นเรามารู้จักกับกฎหมาย PDPA กันคร่าวๆ ก่อน 🤩 PDPA ย่อมาจาก Personal Data Protection Act หรือพ.ร.บ.คุ้มครองข้อมูลส่วนบุคคล ถูกกำหนดขึ้นเพื่อคุ้มครองข้อมูลส่วนบุคคลของผู้บริโภคจากคน บริษัท หรือองค์กรต่างๆ ข้อมูลดังกล่าวอาจเป็นชื่อ ที่อยู่ ข้อมูลการศึกษา รวมถึงข้อมูลบนอินเทอร์เน็ตเช่น Username Password, Cookies IP Address หรือ GPS Location\\n.\\n🎨 ดังนั้นหน้าที่ของ UX Designer คือการปรับตัวตามสถานการณ์ สิ่งที่สำคัญสำหรับการออกแบบคือการแจ้งให้ผู้ใช้ทราบว่าจะมีการจัดเก็บข้อมูล พร้อมทั้งถามความยินยอม และแจ้งรายละเอียดต่างๆ ให้ชัดเจน 🙌🏻เราได้รวบรวมตัวอย่างการออกแบบเว็บไซต์ที่สอดคล้องกับ PDPA ไว้ 4 ตัวอย่างง่ายๆ ลองไปดูกันเลย!'"
      ]
     },
     "execution_count": 55,
     "metadata": {},
     "output_type": "execute_result"
    }
   ],
   "source": [
    "df1.iloc[1]['Caption'] # postID == 2 has no tag in caption\n",
    "# there're some post not containing any tag, leading to being unable to analysis"
   ]
  },
  {
   "cell_type": "code",
   "execution_count": 89,
   "id": "0b8f3bfe",
   "metadata": {},
   "outputs": [
    {
     "data": {
      "text/html": [
       "<div>\n",
       "<style scoped>\n",
       "    .dataframe tbody tr th:only-of-type {\n",
       "        vertical-align: middle;\n",
       "    }\n",
       "\n",
       "    .dataframe tbody tr th {\n",
       "        vertical-align: top;\n",
       "    }\n",
       "\n",
       "    .dataframe thead th {\n",
       "        text-align: right;\n",
       "    }\n",
       "</style>\n",
       "<table border=\"1\" class=\"dataframe\">\n",
       "  <thead>\n",
       "    <tr style=\"text-align: right;\">\n",
       "      <th></th>\n",
       "      <th>pk_postsAndTags</th>\n",
       "      <th>postID</th>\n",
       "      <th>tagID</th>\n",
       "    </tr>\n",
       "  </thead>\n",
       "  <tbody>\n",
       "  </tbody>\n",
       "</table>\n",
       "</div>"
      ],
      "text/plain": [
       "Empty DataFrame\n",
       "Columns: [pk_postsAndTags, postID, tagID]\n",
       "Index: []"
      ]
     },
     "execution_count": 89,
     "metadata": {},
     "output_type": "execute_result"
    }
   ],
   "source": [
    "condition = df3['pk_postsAndTags'].duplicated()\n",
    "df3[condition]"
   ]
  },
  {
   "cell_type": "code",
   "execution_count": 82,
   "id": "357a5c18",
   "metadata": {},
   "outputs": [
    {
     "name": "stdout",
     "output_type": "stream",
     "text": [
      "pk_postsAndTags    ('1', '1')\n",
      "postID                      1\n",
      "tagID                       1\n",
      "Name: 0, dtype: object\n"
     ]
    }
   ],
   "source": [
    "for index, row in df3.iterrows():\n",
    "    print(row)\n",
    "    break"
   ]
  }
 ],
 "metadata": {
  "kernelspec": {
   "display_name": "Python 3.10.6 64-bit",
   "language": "python",
   "name": "python3"
  },
  "language_info": {
   "codemirror_mode": {
    "name": "ipython",
    "version": 3
   },
   "file_extension": ".py",
   "mimetype": "text/x-python",
   "name": "python",
   "nbconvert_exporter": "python",
   "pygments_lexer": "ipython3",
   "version": "3.10.6"
  },
  "vscode": {
   "interpreter": {
    "hash": "a9cff5a362bc38ef45d817ae74b1af54d6a076e3d773891282bce078b815ba34"
   }
  }
 },
 "nbformat": 4,
 "nbformat_minor": 5
}
